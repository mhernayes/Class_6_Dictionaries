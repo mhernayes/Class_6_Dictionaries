{
 "cells": [
  {
   "attachments": {},
   "cell_type": "markdown",
   "metadata": {},
   "source": [
    "1. Crea un diccionario vacío llamado “mi_diccionario”."
   ]
  },
  {
   "cell_type": "code",
   "execution_count": null,
   "metadata": {},
   "outputs": [],
   "source": [
    "mi_diccionario = {}"
   ]
  },
  {
   "attachments": {},
   "cell_type": "markdown",
   "metadata": {},
   "source": [
    "2. Agrega un par clave-valor a \"mi_diccionario\" donde la clave sea \"nombre\" y el valor sea tu nombre."
   ]
  },
  {
   "cell_type": "code",
   "execution_count": 1,
   "metadata": {},
   "outputs": [
    {
     "name": "stdout",
     "output_type": "stream",
     "text": [
      "{'nombre': 'Jimmy'}\n"
     ]
    }
   ],
   "source": [
    "mi_diccionario = {'nombre': 'Jimmy'}\n",
    "print(mi_diccionario)"
   ]
  },
  {
   "attachments": {},
   "cell_type": "markdown",
   "metadata": {},
   "source": [
    "3. Accede e imprime el valor asociado con la clave \"nombre\" en “mi_diccionario\"."
   ]
  },
  {
   "cell_type": "code",
   "execution_count": 7,
   "metadata": {},
   "outputs": [
    {
     "name": "stdout",
     "output_type": "stream",
     "text": [
      "Jimmy\n"
     ]
    }
   ],
   "source": [
    "print(mi_diccionario['nombre'])"
   ]
  },
  {
   "attachments": {},
   "cell_type": "markdown",
   "metadata": {},
   "source": [
    "4. Verifica si la clave \"edad\" existe en \"mi_diccionario\". Imprime \"True\" si existe y \"False\" en caso contrario."
   ]
  },
  {
   "cell_type": "code",
   "execution_count": 6,
   "metadata": {},
   "outputs": [
    {
     "name": "stdout",
     "output_type": "stream",
     "text": [
      "False\n"
     ]
    }
   ],
   "source": [
    "if 'edad' in mi_diccionario:\n",
    "    print(True)\n",
    "else: print(False)"
   ]
  },
  {
   "attachments": {},
   "cell_type": "markdown",
   "metadata": {},
   "source": [
    "5. Crea un diccionario llamado \"estudiante\" con los siguientes pares clave-valor:\n",
    "\"nombre\" con el nombre del alumno, \"edad\" con su edad y \"materia\" con su materia\n",
    "favorita."
   ]
  },
  {
   "cell_type": "code",
   "execution_count": 16,
   "metadata": {},
   "outputs": [
    {
     "name": "stdout",
     "output_type": "stream",
     "text": [
      "{'nombre': 'José', 'edad': 25, 'materia': 'Matemáticas'}\n"
     ]
    }
   ],
   "source": [
    "estudiante = {'nombre':'José',\n",
    "              'edad':25,\n",
    "              'materia':'Matemáticas'}\n",
    "print(estudiante)"
   ]
  },
  {
   "attachments": {},
   "cell_type": "markdown",
   "metadata": {},
   "source": [
    "6. Actualiza el valor de la clave \"edad\" en el diccionario \"estudiante\" para reflejar la edad actual de tu amigo."
   ]
  },
  {
   "cell_type": "code",
   "execution_count": 17,
   "metadata": {},
   "outputs": [
    {
     "name": "stdout",
     "output_type": "stream",
     "text": [
      "José tiene 30 años\n"
     ]
    }
   ],
   "source": [
    "estudiante['edad'] = 30\n",
    "print(estudiante['nombre'],'tiene',estudiante['edad'],'años')"
   ]
  },
  {
   "attachments": {},
   "cell_type": "markdown",
   "metadata": {},
   "source": [
    "7. Elimina el par clave-valor con la clave \"materia\" del diccionario “estudiante\"."
   ]
  },
  {
   "cell_type": "code",
   "execution_count": 23,
   "metadata": {},
   "outputs": [
    {
     "name": "stdout",
     "output_type": "stream",
     "text": [
      "{'nombre': 'José', 'edad': 30, 'materia': 'Matemáticas'}\n",
      "{'nombre': 'José', 'edad': 30}\n"
     ]
    }
   ],
   "source": [
    "print(estudiante)\n",
    "del estudiante['materia']\n",
    "print(estudiante)"
   ]
  },
  {
   "attachments": {},
   "cell_type": "markdown",
   "metadata": {},
   "source": [
    "8. Imprime todas las claves en el diccionario “estudiante\"."
   ]
  },
  {
   "cell_type": "code",
   "execution_count": 12,
   "metadata": {},
   "outputs": [
    {
     "name": "stdout",
     "output_type": "stream",
     "text": [
      "dict_keys(['nombre', 'edad'])\n"
     ]
    }
   ],
   "source": [
    "print(estudiante.keys())"
   ]
  },
  {
   "attachments": {},
   "cell_type": "markdown",
   "metadata": {},
   "source": [
    "9. Crea un diccionario llamado \"agenda\" con tres entradas: \"Juan\" con el valor\n",
    "\"1234567890\", \"Joana\" con el valor \"9876543210\" y \"Jimena\" con el valor\n",
    "“5555555555”."
   ]
  },
  {
   "cell_type": "code",
   "execution_count": 13,
   "metadata": {},
   "outputs": [
    {
     "name": "stdout",
     "output_type": "stream",
     "text": [
      "{'Juan': '1234567890', 'Joana': '9876543210', 'Jimena': '5555555555'}\n"
     ]
    }
   ],
   "source": [
    "agenda = {'Juan':'1234567890',\n",
    "          'Joana':'9876543210',\n",
    "          'Jimena':'5555555555'}\n",
    "print(agenda)"
   ]
  },
  {
   "attachments": {},
   "cell_type": "markdown",
   "metadata": {},
   "source": [
    "10. Agrega una nueva entrada al diccionario \"agenda\" con la clave \"Julio\" y el valor\n",
    "“9998887777\"."
   ]
  },
  {
   "cell_type": "code",
   "execution_count": 15,
   "metadata": {},
   "outputs": [
    {
     "name": "stdout",
     "output_type": "stream",
     "text": [
      "{'Juan': '1234567890', 'Joana': '9876543210', 'Jimena': '5555555555', 'julio': '9998887777'}\n"
     ]
    }
   ],
   "source": [
    "agenda['julio'] = '9998887777'\n",
    "print(agenda)"
   ]
  },
  {
   "attachments": {},
   "cell_type": "markdown",
   "metadata": {},
   "source": [
    "11. Imprime el número de entradas (pares clave-valor) en el diccionario “agenda\".\n"
   ]
  },
  {
   "cell_type": "code",
   "execution_count": 18,
   "metadata": {},
   "outputs": [
    {
     "name": "stdout",
     "output_type": "stream",
     "text": [
      "4\n"
     ]
    }
   ],
   "source": [
    "print(len(agenda))"
   ]
  },
  {
   "attachments": {},
   "cell_type": "markdown",
   "metadata": {},
   "source": [
    "12. Crea una lista llamada \"claves\" que contenga todas las claves del diccionario\n",
    "“agenda\"."
   ]
  },
  {
   "cell_type": "code",
   "execution_count": 20,
   "metadata": {},
   "outputs": [
    {
     "name": "stdout",
     "output_type": "stream",
     "text": [
      "['Juan', 'Joana', 'Jimena', 'julio']\n"
     ]
    }
   ],
   "source": [
    "claves = agenda.keys()\n",
    "print(list(claves))"
   ]
  },
  {
   "attachments": {},
   "cell_type": "markdown",
   "metadata": {},
   "source": [
    "13. Verifica si la clave \"Juan\" existe en el diccionario \"agenda\". Imprime \"True\" si existe y \"False\" en caso contrario."
   ]
  },
  {
   "cell_type": "code",
   "execution_count": 21,
   "metadata": {},
   "outputs": [
    {
     "name": "stdout",
     "output_type": "stream",
     "text": [
      "True\n"
     ]
    }
   ],
   "source": [
    "if 'Juan' in agenda:\n",
    "    print(True)\n",
    "else: print(False)"
   ]
  },
  {
   "attachments": {},
   "cell_type": "markdown",
   "metadata": {},
   "source": [
    "14. Elimina la entrada con la clave “Jimena”."
   ]
  },
  {
   "cell_type": "code",
   "execution_count": 24,
   "metadata": {},
   "outputs": [
    {
     "name": "stdout",
     "output_type": "stream",
     "text": [
      "{'Juan': '1234567890', 'Joana': '9876543210', 'julio': '9998887777'}\n"
     ]
    },
    {
     "ename": "KeyError",
     "evalue": "'Jimena'",
     "output_type": "error",
     "traceback": [
      "\u001b[1;31m---------------------------------------------------------------------------\u001b[0m",
      "\u001b[1;31mKeyError\u001b[0m                                  Traceback (most recent call last)",
      "Cell \u001b[1;32mIn[24], line 2\u001b[0m\n\u001b[0;32m      1\u001b[0m \u001b[39mprint\u001b[39m(agenda)\n\u001b[1;32m----> 2\u001b[0m \u001b[39mdel\u001b[39;00m agenda[\u001b[39m'\u001b[39m\u001b[39mJimena\u001b[39m\u001b[39m'\u001b[39m]\n\u001b[0;32m      3\u001b[0m \u001b[39mprint\u001b[39m(agenda)\n",
      "\u001b[1;31mKeyError\u001b[0m: 'Jimena'"
     ]
    }
   ],
   "source": [
    "print(agenda)\n",
    "del agenda['Jimena']\n",
    "print(agenda)"
   ]
  },
  {
   "attachments": {},
   "cell_type": "markdown",
   "metadata": {},
   "source": [
    "15. Utiliza un bucle for para iterar sobre todas las claves en el diccionario \"agenda\" e imprime cada par clave-valor en el formato \"Nombre: Número”."
   ]
  },
  {
   "cell_type": "code",
   "execution_count": 33,
   "metadata": {},
   "outputs": [
    {
     "name": "stdout",
     "output_type": "stream",
     "text": [
      "Juan : 1234567890\n",
      "Joana : 9876543210\n",
      "julio : 9998887777\n"
     ]
    }
   ],
   "source": [
    "for nombre,numero in agenda.items():\n",
    "    print(nombre,':',numero)"
   ]
  },
  {
   "attachments": {},
   "cell_type": "markdown",
   "metadata": {},
   "source": [
    "16. Utiliza el método \"get()\" para obtener el valor asociado con la clave \"Juan\" en el diccionario \"agenda\". Si la clave no existe, imprime \"Clave no encontrada”."
   ]
  },
  {
   "cell_type": "code",
   "execution_count": 41,
   "metadata": {},
   "outputs": [
    {
     "name": "stdout",
     "output_type": "stream",
     "text": [
      "1234567890\n",
      "Clave no encontrada\n"
     ]
    }
   ],
   "source": [
    "print(agenda.get('Juan', 'Clave no encontrada'))\n",
    "print(agenda.get('Javier', 'Clave no encontrada'))"
   ]
  },
  {
   "attachments": {},
   "cell_type": "markdown",
   "metadata": {},
   "source": [
    "17. Borra todas las entradas del diccionario “agenda”."
   ]
  },
  {
   "cell_type": "code",
   "execution_count": 42,
   "metadata": {},
   "outputs": [
    {
     "name": "stdout",
     "output_type": "stream",
     "text": [
      "{'Juan': '1234567890', 'Joana': '9876543210', 'julio': '9998887777'}\n",
      "{}\n"
     ]
    }
   ],
   "source": [
    "print(agenda)\n",
    "agenda.clear()\n",
    "print(agenda)\n"
   ]
  }
 ],
 "metadata": {
  "kernelspec": {
   "display_name": "py3.10.9",
   "language": "python",
   "name": "python3"
  },
  "language_info": {
   "codemirror_mode": {
    "name": "ipython",
    "version": 3
   },
   "file_extension": ".py",
   "mimetype": "text/x-python",
   "name": "python",
   "nbconvert_exporter": "python",
   "pygments_lexer": "ipython3",
   "version": "3.10.9"
  },
  "orig_nbformat": 4
 },
 "nbformat": 4,
 "nbformat_minor": 2
}
