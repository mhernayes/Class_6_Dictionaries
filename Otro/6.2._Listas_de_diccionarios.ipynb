{
 "cells": [
  {
   "attachments": {},
   "cell_type": "markdown",
   "metadata": {},
   "source": [
    "18. Crea una lista llamada \"estudiantes\" que contenga dos diccionarios. Cada diccionario representa a un estudiante y tiene las claves \"nombre\" y \"edad\" con sus respectivos\n",
    "valores. Recorre la lista e imprime el nombre y edad de cada estudiante."
   ]
  },
  {
   "cell_type": "code",
   "execution_count": 5,
   "metadata": {},
   "outputs": [
    {
     "name": "stdout",
     "output_type": "stream",
     "text": [
      "[{'nombre': 'Javier', 'edad': 25}, {'nombre': 'Susana', 'edad': 27}]\n",
      "Javier 25\n",
      "Susana 27\n"
     ]
    }
   ],
   "source": [
    "estudiantes = [\n",
    "    {\n",
    "        'nombre':   'Javier',\n",
    "        'edad'  :     25,\n",
    "    },\n",
    "    {\n",
    "        'nombre' :  'Susana',\n",
    "        'edad'   :  27,\n",
    "    }\n",
    "]\n",
    "print(estudiantes)\n",
    "for estudiante in estudiantes:\n",
    "    print(estudiante['nombre'],estudiante['edad'])"
   ]
  },
  {
   "attachments": {},
   "cell_type": "markdown",
   "metadata": {},
   "source": [
    "19. Agrega un nuevo estudiante a la lista \"estudiantes\" utilizando un diccionario con las mismas claves \"nombre\" y \"edad\". Imprime la lista actualizada."
   ]
  },
  {
   "cell_type": "code",
   "execution_count": 6,
   "metadata": {},
   "outputs": [
    {
     "name": "stdout",
     "output_type": "stream",
     "text": [
      "[{'nombre': 'Javier', 'edad': 25}, {'nombre': 'Susana', 'edad': 27}, {'Marcos': 24}]\n"
     ]
    }
   ],
   "source": [
    "estudiantes.append({'Marcos':24})\n",
    "print(estudiantes)"
   ]
  },
  {
   "attachments": {},
   "cell_type": "markdown",
   "metadata": {},
   "source": [
    "20. Elimina el segundo estudiante de la lista \"estudiantes\". Imprime la lista actualizada."
   ]
  },
  {
   "cell_type": "code",
   "execution_count": 9,
   "metadata": {},
   "outputs": [
    {
     "name": "stdout",
     "output_type": "stream",
     "text": [
      "[{'nombre': 'Javier', 'edad': 25}, {'Marcos': 24}]\n"
     ]
    }
   ],
   "source": [
    "estudiantes.pop(1)\n",
    "print(estudiantes)"
   ]
  },
  {
   "attachments": {},
   "cell_type": "markdown",
   "metadata": {},
   "source": [
    "21. Actualiza la edad del primer estudiante en la lista \"estudiantes\" a un nuevo valor. Imprime la lista actualizada."
   ]
  },
  {
   "cell_type": "code",
   "execution_count": 10,
   "metadata": {},
   "outputs": [
    {
     "name": "stdout",
     "output_type": "stream",
     "text": [
      "[{'nombre': 'Javier', 'edad': 30}, {'Marcos': 24}]\n"
     ]
    }
   ],
   "source": [
    "estudiantes[0]['edad'] = 30\n",
    "print(estudiantes)"
   ]
  }
 ],
 "metadata": {
  "kernelspec": {
   "display_name": "py3.10.9",
   "language": "python",
   "name": "python3"
  },
  "language_info": {
   "codemirror_mode": {
    "name": "ipython",
    "version": 3
   },
   "file_extension": ".py",
   "mimetype": "text/x-python",
   "name": "python",
   "nbconvert_exporter": "python",
   "pygments_lexer": "ipython3",
   "version": "3.10.9"
  },
  "orig_nbformat": 4
 },
 "nbformat": 4,
 "nbformat_minor": 2
}
