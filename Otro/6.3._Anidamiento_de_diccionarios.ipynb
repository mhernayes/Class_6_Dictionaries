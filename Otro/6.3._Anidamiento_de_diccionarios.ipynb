{
 "cells": [
  {
   "attachments": {},
   "cell_type": "markdown",
   "metadata": {},
   "source": [
    "22. Crea un diccionario llamado \"productos\" que contenga dos entradas. Cada entrada\n",
    "representa un producto y tiene a su vez las claves \"nombre\" y \"precio\" con sus\n",
    "respectivos valores. Recorre el diccionario e imprime el nombre y precio de cada\n",
    "producto"
   ]
  },
  {
   "cell_type": "code",
   "execution_count": 21,
   "metadata": {},
   "outputs": [
    {
     "name": "stdout",
     "output_type": "stream",
     "text": [
      "Marca: Seat\n",
      "- Modelo: Ibiza\n",
      "- Precio: 25000\n",
      "Marca: Dacia\n",
      "- Modelo: Sandero\n",
      "- Precio: 20000\n"
     ]
    }
   ],
   "source": [
    "coches = {\n",
    "    'Seat': {\n",
    "        'nombre' : 'Ibiza',\n",
    "        'precio' : 25000,\n",
    "    },\n",
    "    'Dacia': {\n",
    "        'nombre' : 'Sandero',\n",
    "        'precio' : 20000,\n",
    "    }\n",
    "}\n",
    "\n",
    "for coche in coches:\n",
    "    print('Marca:', coche)\n",
    "    print('- Modelo:', coches[coche]['nombre'])\n",
    "    print('- Precio:', coches[coche]['precio'])\n"
   ]
  },
  {
   "attachments": {},
   "cell_type": "markdown",
   "metadata": {},
   "source": [
    "23. Agrega un nuevo producto al diccionario \"productos\" utilizando una nueva clave y\n",
    "valor. Imprime el diccionario actualizado."
   ]
  },
  {
   "cell_type": "code",
   "execution_count": 22,
   "metadata": {},
   "outputs": [
    {
     "name": "stdout",
     "output_type": "stream",
     "text": [
      "{'Seat': {'nombre': 'Ibiza', 'precio': 25000}, 'Dacia': {'nombre': 'Sandero', 'precio': 20000}, 'Renault': {'Clio', 22000}}\n"
     ]
    }
   ],
   "source": [
    "coches['Renault'] = {'Clio',22000}\n",
    "print(coches)"
   ]
  },
  {
   "attachments": {},
   "cell_type": "markdown",
   "metadata": {},
   "source": [
    "24. Crea un diccionario llamado \"equipos\" que contenga tres entradas. Cada entrada\n",
    "representa un equipo deportivo y tiene las claves \"nombre\" y \"jugadores\" con sus\n",
    "respectivos valores. Los valores de \"jugadores\" deben ser listas con los nombres de\n",
    "los jugadores. Recorre el diccionario e imprime el nombre del equipo y la lista de\n",
    "jugadores."
   ]
  },
  {
   "cell_type": "code",
   "execution_count": 34,
   "metadata": {},
   "outputs": [
    {
     "name": "stdout",
     "output_type": "stream",
     "text": [
      "{'Equipo1': {'nombre': 'Real Madrid', 'jugadores': ['courtois', 'Alaba', 'Naho']}, 'Equipo2': {'nombre': 'Barcelona', 'jugadores': ['Gavi', 'Pedri', 'Dembélé']}, 'Equipo3': {'nombre': 'Sevilla', 'jugadores': ['Bono', 'Corona', 'Acuña']}}\n",
      "Real Madrid\n",
      "- courtois\n",
      "- Alaba\n",
      "- Naho\n",
      "Barcelona\n",
      "- Gavi\n",
      "- Pedri\n",
      "- Dembélé\n",
      "Sevilla\n",
      "- Bono\n",
      "- Corona\n",
      "- Acuña\n"
     ]
    }
   ],
   "source": [
    "equipos = {\n",
    "    'Equipo1': {\n",
    "        'nombre': 'Real Madrid',\n",
    "        'jugadores': ['courtois','Alaba','Naho'],\n",
    "    },\n",
    "    'Equipo2': {\n",
    "        'nombre': 'Barcelona',\n",
    "        'jugadores': ['Gavi','Pedri','Dembélé'],\n",
    "    },\n",
    "    'Equipo3': {\n",
    "        'nombre': 'Sevilla',\n",
    "        'jugadores': ['Bono','Corona','Acuña'],\n",
    "    },\n",
    "}\n",
    "print(equipos)\n",
    "\n",
    "for equipo in equipos:\n",
    "    print(equipos[equipo]['nombre'])\n",
    "    [print('-',jugador) for jugador in equipos[equipo]['jugadores']]\n",
    "\n"
   ]
  },
  {
   "attachments": {},
   "cell_type": "markdown",
   "metadata": {},
   "source": [
    "25. Agrega un nuevo equipo al diccionario \"equipos\" utilizando una nueva clave y valor.\n",
    "La lista de jugadores debe contener al menos tres nombres. Imprime el diccionario\n",
    "actualizado."
   ]
  },
  {
   "cell_type": "code",
   "execution_count": 43,
   "metadata": {},
   "outputs": [
    {
     "name": "stdout",
     "output_type": "stream",
     "text": [
      "{'Equipo1': {'nombre': 'Real Madrid', 'jugadores': ['courtois', 'Alaba', 'Naho']}, 'Equipo2': {'nombre': 'Barcelona', 'jugadores': ['Gavi', 'Pedri', 'Dembélé']}, 'Equipo3': {'nombre': 'Sevilla', 'jugadores': ['Bono', 'Corona', 'Acuña']}, 'Equipo4': {'nombre': 'Valencia', 'jugadores': ['Herrerín', 'Gabriel Paulista', 'José Gayá']}}\n"
     ]
    }
   ],
   "source": [
    "equipos['Equipo4'] = {'nombre': 'Valencia', 'jugadores': ['Herrerín','Gabriel Paulista','José Gayá']}\n",
    "print(equipos)"
   ]
  },
  {
   "attachments": {},
   "cell_type": "markdown",
   "metadata": {},
   "source": [
    "26. Actualiza la lista de jugadores de uno de los equipos existentes en el diccionario \"equipos\". Agrega un nuevo jugador a la lista. Imprime el diccionario actualizado."
   ]
  },
  {
   "cell_type": "code",
   "execution_count": 61,
   "metadata": {},
   "outputs": [
    {
     "name": "stdout",
     "output_type": "stream",
     "text": [
      "{'Equipo1': {'nombre': 'Real Madrid', 'jugadores': ['courtois', 'Alaba', 'Naho', 'Benzemá', 'Benzemá']}, 'Equipo2': {'nombre': 'Barcelona', 'jugadores': ['Gavi', 'Pedri', 'Dembélé']}, 'Equipo3': {'nombre': 'Sevilla', 'jugadores': ['Bono', 'Corona', 'Acuña']}, 'Equipo4': {'nombre': 'Valencia', 'jugadores': ['Herrerín', 'Gabriel Paulista', 'José Gayá']}}\n"
     ]
    }
   ],
   "source": [
    "equipos['Equipo1']['jugadores'].append('Benzemá')\n",
    "print(equipos)"
   ]
  }
 ],
 "metadata": {
  "kernelspec": {
   "display_name": "py3.10.9",
   "language": "python",
   "name": "python3"
  },
  "language_info": {
   "codemirror_mode": {
    "name": "ipython",
    "version": 3
   },
   "file_extension": ".py",
   "mimetype": "text/x-python",
   "name": "python",
   "nbconvert_exporter": "python",
   "pygments_lexer": "ipython3",
   "version": "3.10.9"
  },
  "orig_nbformat": 4
 },
 "nbformat": 4,
 "nbformat_minor": 2
}
